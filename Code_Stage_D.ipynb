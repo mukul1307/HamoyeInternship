{
 "cells": [
  {
   "cell_type": "code",
   "execution_count": null,
   "metadata": {},
   "outputs": [],
   "source": [
    "import numpy as np\n",
    "import pandas as pd\n",
    "from fastai.vision import *"
   ]
  },
  {
   "cell_type": "code",
   "execution_count": null,
   "metadata": {},
   "outputs": [],
   "source": [
    "path = Path('../input')"
   ]
  },
  {
   "cell_type": "code",
   "execution_count": null,
   "metadata": {},
   "outputs": [],
   "source": [
    "path.ls()"
   ]
  },
  {
   "cell_type": "code",
   "execution_count": null,
   "metadata": {},
   "outputs": [],
   "source": [
    "get_image_files(path/'train-jpg')[:5]"
   ]
  },
  {
   "cell_type": "code",
   "execution_count": null,
   "metadata": {
    "_uuid": "b5b883c404e23faeae0b485518ad4e3063eabf01",
    "execution": {
     "iopub.status.busy": "2022-09-19T20:37:49.089578Z",
     "iopub.status.idle": "2022-09-19T20:37:49.090061Z"
    }
   },
   "outputs": [],
   "source": [
    "df = pd.read_csv(path/'train_v2.csv')\n",
    "df.head()"
   ]
  },
  {
   "cell_type": "code",
   "execution_count": null,
   "metadata": {
    "_uuid": "bf1f21bfec2320cdd601af9c23ce290a8df9d570",
    "execution": {
     "iopub.status.busy": "2022-09-19T20:37:49.090970Z",
     "iopub.status.idle": "2022-09-19T20:37:49.091745Z"
    }
   },
   "outputs": [],
   "source": [
    "np.random.seed(42)\n",
    "size = 224\n",
    "bs = 64\n",
    "num_workers = 0  # set this to 2 to prevent kernel from crashing"
   ]
  },
  {
   "cell_type": "code",
   "execution_count": null,
   "metadata": {
    "_uuid": "591916538fa4a3a23ec019b18fd5e26ab50c2f0b",
    "execution": {
     "iopub.status.busy": "2022-09-19T20:37:49.092686Z",
     "iopub.status.idle": "2022-09-19T20:37:49.093462Z"
    }
   },
   "outputs": [],
   "source": [
    "tfms = get_transforms(flip_vert=True, max_lighting=0.1, max_zoom=1.05, max_warp=0.)"
   ]
  },
  {
   "cell_type": "code",
   "execution_count": null,
   "metadata": {
    "_uuid": "7ba4553b4079c627ce4613f91efce03c21b94c32",
    "execution": {
     "iopub.status.busy": "2022-09-19T20:37:49.094611Z",
     "iopub.status.idle": "2022-09-19T20:37:49.095679Z"
    }
   },
   "outputs": [],
   "source": [
    "src = (ImageItemList.from_csv(path, 'train_v2.csv', folder='train-jpg', suffix='.jpg')\n",
    "       .random_split_by_pct()\n",
    "       .label_from_df(sep=' ')\n",
    "       .add_test_folder('test-jpg-v2'))"
   ]
  },
  {
   "cell_type": "code",
   "execution_count": null,
   "metadata": {
    "_uuid": "0b8780fad8e1cdedbb2cfbad6ffc5ee687bd29bd",
    "execution": {
     "iopub.status.busy": "2022-09-19T20:37:49.096701Z",
     "iopub.status.idle": "2022-09-19T20:37:49.097452Z"
    }
   },
   "outputs": [],
   "source": [
    "data = (src.transform(tfms, size=size)\n",
    "        .databunch(bs=bs, num_workers=num_workers)\n",
    "        .normalize(imagenet_stats))"
   ]
  },
  {
   "cell_type": "markdown",
   "metadata": {
    "_uuid": "f548b35f17986a916a656235071ba1fe9a522c4b"
   },
   "source": [
    "Verify datasets loaded properly.  We should have the following:\n",
    "* train: 32,384\n",
    "* valid: 8,095\n",
    "* test: 61,191"
   ]
  },
  {
   "cell_type": "code",
   "execution_count": null,
   "metadata": {
    "_uuid": "87917cc445baa2e7809bbec9e9737f426acc02bc",
    "execution": {
     "iopub.status.busy": "2022-09-19T20:37:49.098391Z",
     "iopub.status.idle": "2022-09-19T20:37:49.099145Z"
    }
   },
   "outputs": [],
   "source": [
    "print(len(data.train_ds))\n",
    "print(len(data.valid_ds))\n",
    "print(len(data.test_ds))"
   ]
  },
  {
   "cell_type": "code",
   "execution_count": null,
   "metadata": {
    "_uuid": "7adebb077bc97d8493e864a515deb66e14169f5a",
    "execution": {
     "iopub.status.busy": "2022-09-19T20:37:49.099853Z",
     "iopub.status.idle": "2022-09-19T20:37:49.100573Z"
    }
   },
   "outputs": [],
   "source": [
    "data.classes"
   ]
  },
  {
   "cell_type": "code",
   "execution_count": null,
   "metadata": {
    "_uuid": "1ff1232900ccc09cd93b82b51faca0cf6f947258",
    "execution": {
     "iopub.status.busy": "2022-09-19T20:37:49.101448Z",
     "iopub.status.idle": "2022-09-19T20:37:49.102246Z"
    }
   },
   "outputs": [],
   "source": [
    "data.show_batch(rows=3, figsize=(7,6))"
   ]
  },
  {
   "cell_type": "markdown",
   "metadata": {
    "_uuid": "d3c563852e91e41ee9e8362f542956d8ff1b8663"
   },
   "source": []
  },
  {
   "cell_type": "code",
   "execution_count": null,
   "metadata": {
    "_uuid": "345dd074065085d8b955544965403766ea9a7b54",
    "execution": {
     "iopub.status.busy": "2022-09-19T20:37:49.104094Z",
     "iopub.status.idle": "2022-09-19T20:37:49.104890Z"
    }
   },
   "outputs": [],
   "source": [
    "arch = models.resnet50\n",
    "acc = partial(accuracy_thresh, thresh=0.2)\n",
    "f_score = partial(fbeta, thresh=0.2)"
   ]
  },
  {
   "cell_type": "code",
   "execution_count": null,
   "metadata": {
    "_uuid": "46894f2f85e6a7acd2f964c27f76e5a6f6283c18",
    "execution": {
     "iopub.status.busy": "2022-09-19T20:37:49.105702Z",
     "iopub.status.idle": "2022-09-19T20:37:49.106449Z"
    }
   },
   "outputs": [],
   "source": [
    "learn = create_cnn(data, arch, metrics=[acc, f_score], model_dir='/tmp/models')"
   ]
  },
  {
   "cell_type": "code",
   "execution_count": null,
   "metadata": {
    "_uuid": "c24ca8ada25461f77d554375eb20ee7e20450e1b",
    "execution": {
     "iopub.status.busy": "2022-09-19T20:37:49.107261Z",
     "iopub.status.idle": "2022-09-19T20:37:49.107969Z"
    }
   },
   "outputs": [],
   "source": [
    "learn.lr_find()\n",
    "learn.recorder.plot()"
   ]
  },
  {
   "cell_type": "code",
   "execution_count": null,
   "metadata": {
    "_uuid": "39faefcd761a317d1635328ae50e1299eb964055",
    "execution": {
     "iopub.status.busy": "2022-09-19T20:37:49.108803Z",
     "iopub.status.idle": "2022-09-19T20:37:49.109549Z"
    }
   },
   "outputs": [],
   "source": [
    "lr = 1e-2"
   ]
  },
  {
   "cell_type": "code",
   "execution_count": null,
   "metadata": {
    "_uuid": "3c39f2511ce7dd8a1eaef3547223f064d21da0a2",
    "execution": {
     "iopub.status.busy": "2022-09-19T20:37:49.110371Z",
     "iopub.status.idle": "2022-09-19T20:37:49.111071Z"
    }
   },
   "outputs": [],
   "source": [
    "learn.fit_one_cycle(4, slice(lr))"
   ]
  },
  {
   "cell_type": "code",
   "execution_count": null,
   "metadata": {
    "_uuid": "bfd773658287694cbc22a3aaa6154019f06ed3d3",
    "execution": {
     "iopub.status.busy": "2022-09-19T20:37:49.111886Z",
     "iopub.status.idle": "2022-09-19T20:37:49.112600Z"
    }
   },
   "outputs": [],
   "source": [
    "learn.save('stage-1')"
   ]
  },
  {
   "cell_type": "code",
   "execution_count": null,
   "metadata": {
    "_uuid": "d138279f4164d77f5e9a0db109d1ac4fc78914a8",
    "execution": {
     "iopub.status.busy": "2022-09-19T20:37:49.113417Z",
     "iopub.status.idle": "2022-09-19T20:37:49.114159Z"
    }
   },
   "outputs": [],
   "source": [
    "learn.recorder.plot_losses()"
   ]
  },
  {
   "cell_type": "code",
   "execution_count": null,
   "metadata": {
    "_uuid": "ffdd1a3c6b16ecd9ae349cf27accd0f158d7bb93",
    "execution": {
     "iopub.status.busy": "2022-09-19T20:37:49.114965Z",
     "iopub.status.idle": "2022-09-19T20:37:49.115665Z"
    }
   },
   "outputs": [],
   "source": [
    "learn.unfreeze()"
   ]
  },
  {
   "cell_type": "code",
   "execution_count": null,
   "metadata": {
    "_uuid": "1d4207526c8593f08b493fa03b2cbf25e2c846b3",
    "execution": {
     "iopub.status.busy": "2022-09-19T20:37:49.116501Z",
     "iopub.status.idle": "2022-09-19T20:37:49.117216Z"
    }
   },
   "outputs": [],
   "source": [
    "learn.lr_find()\n",
    "learn.recorder.plot()"
   ]
  },
  {
   "cell_type": "code",
   "execution_count": null,
   "metadata": {
    "_uuid": "841f66640fc6429d67e84600f067311cd64defee",
    "execution": {
     "iopub.status.busy": "2022-09-19T20:37:49.118008Z",
     "iopub.status.idle": "2022-09-19T20:37:49.118697Z"
    }
   },
   "outputs": [],
   "source": [
    "learn.fit_one_cycle(2, max_lr=slice(1e-6,1e-4))"
   ]
  },
  {
   "cell_type": "code",
   "execution_count": null,
   "metadata": {
    "_uuid": "0995049a986864e711602f26d3b3cd7f331d1d25",
    "execution": {
     "iopub.status.busy": "2022-09-19T20:37:49.119538Z",
     "iopub.status.idle": "2022-09-19T20:37:49.120263Z"
    }
   },
   "outputs": [],
   "source": [
    "learn.save('stage-2')"
   ]
  },
  {
   "cell_type": "code",
   "execution_count": null,
   "metadata": {
    "_uuid": "cbb3cb8000f78d59a39bd6003ef97fbb9779d19b",
    "execution": {
     "iopub.status.busy": "2022-09-19T20:37:49.121068Z",
     "iopub.status.idle": "2022-09-19T20:37:49.121752Z"
    }
   },
   "outputs": [],
   "source": [
    "learn.recorder.plot_losses()"
   ]
  },
  {
   "cell_type": "code",
   "execution_count": null,
   "metadata": {
    "_uuid": "82405baa7de93f04e86d9d07ac518ec57acbc616",
    "execution": {
     "iopub.status.busy": "2022-09-19T20:37:49.122580Z",
     "iopub.status.idle": "2022-09-19T20:37:49.123302Z"
    }
   },
   "outputs": [],
   "source": [
    "preds, y = learn.get_preds(ds_type=DatasetType.Test)"
   ]
  },
  {
   "cell_type": "code",
   "execution_count": null,
   "metadata": {
    "_uuid": "bcb5a5a2ceced903bef38ef6ef77c4044ec08e95",
    "execution": {
     "iopub.status.busy": "2022-09-19T20:37:49.124104Z",
     "iopub.status.idle": "2022-09-19T20:37:49.124786Z"
    }
   },
   "outputs": [],
   "source": [
    "preds[:5]"
   ]
  },
  {
   "cell_type": "code",
   "execution_count": null,
   "metadata": {
    "_uuid": "16aef6287e2d9e0d8237ad69c5edf74f7bdc9fa4",
    "execution": {
     "iopub.status.busy": "2022-09-19T20:37:49.125609Z",
     "iopub.status.idle": "2022-09-19T20:37:49.126319Z"
    }
   },
   "outputs": [],
   "source": [
    "thresh = 0.2\n",
    "labelled_preds = [' '.join([learn.data.classes[i] for i,p in enumerate(pred) if p > thresh]) for pred in preds]"
   ]
  },
  {
   "cell_type": "code",
   "execution_count": null,
   "metadata": {
    "_uuid": "fe6f748f7a7b5d75a87595ad03ec6b025af1bf23",
    "execution": {
     "iopub.status.busy": "2022-09-19T20:37:49.127137Z",
     "iopub.status.idle": "2022-09-19T20:37:49.127843Z"
    }
   },
   "outputs": [],
   "source": [
    "labelled_preds[:5]"
   ]
  },
  {
   "cell_type": "code",
   "execution_count": null,
   "metadata": {
    "_uuid": "1e99f274d00562321f593f7dffa5edbb52cdf61f",
    "execution": {
     "iopub.status.busy": "2022-09-19T20:37:49.128650Z",
     "iopub.status.idle": "2022-09-19T20:37:49.129375Z"
    }
   },
   "outputs": [],
   "source": [
    "submission = pd.DataFrame({'image_name':os.listdir('../input/test-jpg-v2'), 'tags':labelled_preds})"
   ]
  },
  {
   "cell_type": "code",
   "execution_count": null,
   "metadata": {
    "_uuid": "0fac3e616b242093f2c08719fb272ce043b5994f",
    "execution": {
     "iopub.status.busy": "2022-09-19T20:37:49.130186Z",
     "iopub.status.idle": "2022-09-19T20:37:49.130876Z"
    }
   },
   "outputs": [],
   "source": [
    "submission['image_name'] = submission['image_name'].map(lambda x: x.split('.')[0])"
   ]
  },
  {
   "cell_type": "code",
   "execution_count": null,
   "metadata": {
    "_uuid": "ec04a147300c19d3f1afe9e35025b635a426f25e",
    "execution": {
     "iopub.status.busy": "2022-09-19T20:37:49.131705Z",
     "iopub.status.idle": "2022-09-19T20:37:49.132402Z"
    }
   },
   "outputs": [],
   "source": [
    "submission = submission.sort_values('image_name')"
   ]
  },
  {
   "cell_type": "code",
   "execution_count": null,
   "metadata": {
    "_uuid": "9d2462137c41577a23623a5d4e6c2335a7dc4614",
    "execution": {
     "iopub.status.busy": "2022-09-19T20:37:49.133290Z",
     "iopub.status.idle": "2022-09-19T20:37:49.133965Z"
    }
   },
   "outputs": [],
   "source": [
    "submission[:5]"
   ]
  },
  {
   "cell_type": "code",
   "execution_count": null,
   "metadata": {
    "_uuid": "1a1ae9614ff93c68cdc8ed9e57231bf758337bb0",
    "execution": {
     "iopub.status.busy": "2022-09-19T20:37:49.134797Z",
     "iopub.status.idle": "2022-09-19T20:37:49.135516Z"
    }
   },
   "outputs": [],
   "source": [
    "submission.to_csv('submission.csv', index=False)"
   ]
  }
 ],
 "metadata": {
  "kernelspec": {
   "display_name": "Python 3 (ipykernel)",
   "language": "python",
   "name": "python3"
  },
  "language_info": {
   "codemirror_mode": {
    "name": "ipython",
    "version": 3
   },
   "file_extension": ".py",
   "mimetype": "text/x-python",
   "name": "python",
   "nbconvert_exporter": "python",
   "pygments_lexer": "ipython3",
   "version": "3.9.12"
  }
 },
 "nbformat": 4,
 "nbformat_minor": 4
}
